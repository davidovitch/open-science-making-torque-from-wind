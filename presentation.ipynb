{
 "metadata": {
  "celltoolbar": "Slideshow",
  "name": "",
  "signature": "sha256:48a1b76bfed2c453f990044ecdb0b34213ed7e30512bc305497c696871d18f40"
 },
 "nbformat": 3,
 "nbformat_minor": 0,
 "worksheets": [
  {
   "cells": [
    {
     "cell_type": "markdown",
     "metadata": {
      "slideshow": {
       "slide_type": "notes"
      }
     },
     "source": [
      "# Abstract\n",
      "\n",
      "Authors: VERELST, David (DTU Wind Energy)\n",
      "BERGAMI, Leonardo (DTU Wind Energy)\n",
      "TIBALDI, Carlo (DTU Wind Energy)\n",
      "BLASQUES, Jos\u00e9 (DTU Wind Energy)\n",
      "\n",
      "The paper discusses the principles behind the Open Science (OS) movement, and in particular its relation with the wind energy research community. Open Science refers to scientific research that is conducted, reviewed, and disseminated under the principles of transparency and \u201copenness\u201d to the public domain. Under an OS framework, all steps of a scientific research process, from creation to dissemination, evolve in their \u201copen\u201d counterparts: open source software models, open data sets, open peer review, and open access publishing. The paper will define and evaluate critically each of these steps while also relating them to the wind energy research community. Further, the authors will briefly argue why OS could be beneficial from a broader societal perspective.\n",
      "\n",
      "Modern research often utilizes complex software models and large data sets not disclosed to the public domain. This approach hampers independent review and the reproducibility of research results. By removing such barriers, OS ensures that advancements are achieved through transparent and robustly validated steps. The review of scientific results in an open framework (open peer review) guarantees the quality of the results by enhanced transparency in the review process, and encourages active enduring contributions both from qualified reviewers and members of the research community. Dissemination and publication of scientific knowledge in an open access (OA) format reduces access barriers to published material, and enhances knowledge sharing. OA benefits the scientific community with the availability of a broader knowledge base, and the possibility to reach a wider audience, thus improves knowledge usage, increases citations, and amplifies the impact on society. The advantages of OA publications are recognized by mayor public funding programs, and they encourage actively to distribute the results from their sponsored projects as OA.\n",
      "\n",
      "The shift towards an OS framework is occurring unevenly among disciplines. While some research fields are embracing more open practices rapidly, wind energy appears to lag behind. The paper aims at raising awareness, and stirring the debate within the wind energy research community about OS and its fundamental methods and tools. It is the authors\u2019 hope that the paper will initiate a collaborative and \u201copen\u201d discussion forum on Open Science using the Torque 2014 conference as its kick-off event."
     ]
    },
    {
     "cell_type": "markdown",
     "metadata": {
      "slideshow": {
       "slide_type": "slide"
      }
     },
     "source": [
      "#  The Open Science of Making Torque from Wind"
     ]
    },
    {
     "cell_type": "markdown",
     "metadata": {
      "slideshow": {
       "slide_type": "slide"
      }
     },
     "source": [
      "# Outline\n",
      "\n",
      "* What is Open science?\n",
      "    \n",
      "* Why Would Open Science Matter?\n",
      "    \n",
      "* Problems and Pitfalls\n",
      "\n",
      "* What is currently happening\n",
      "\n",
      "* Tools\n",
      "\n",
      "* Discussion"
     ]
    },
    {
     "cell_type": "markdown",
     "metadata": {
      "slideshow": {
       "slide_type": "slide"
      }
     },
     "source": [
      "# What is Open Science?\n",
      "\n",
      "* Open data repositories\n",
      "* Open source software and model development\n",
      "* Open peer review process\n",
      "* Open access publishing\n",
      "* Patents?"
     ]
    },
    {
     "cell_type": "markdown",
     "metadata": {
      "slideshow": {
       "slide_type": "notes"
      }
     },
     "source": [
      "What about patents? Do they matter? Pattents are originaly intendet to \"promote the progress of science and the useful arts\". Is that still the case? "
     ]
    },
    {
     "cell_type": "markdown",
     "metadata": {
      "slideshow": {
       "slide_type": "slide"
      }
     },
     "source": [
      "# Why Should Open Science Matter?\n",
      "\n",
      "* Reproducability\n",
      "* Publically funded, publically accessible\n",
      "* Accelerate progress\n",
      "* Increase societal impact\n",
      "* For the benefit of society: distribute technology withouth discrimination\n",
      "* Universities have top level strategies all seem to align perfectly well with Open Science dogma's, for instance lets look at the recently updated DTU strategy:"
     ]
    },
    {
     "cell_type": "markdown",
     "metadata": {
      "slideshow": {
       "slide_type": "slide"
      }
     },
     "source": [
      "# What open science is not\n",
      "\n",
      "* thread to scientists, this is an opportunity to proof our (increasing) relevance to socieity\n",
      "* it is not a fundamental crituque on fellow researchers, it fits in the spirit of science: to be critical and be always open for improvements, because we know perfection is not of this world\n",
      "* for inspiration, quote some of Piketty's stuff in the introduction of Capital in the 21 century\n",
      "* The road to heaven\n",
      "* Perfection"
     ]
    },
    {
     "cell_type": "markdown",
     "metadata": {
      "slideshow": {
       "slide_type": "notes"
      }
     },
     "source": [
      "We should really rethink what is the core task of a universities. Are we really creating for knowledge for the benefit of mankind, or just targeted industries and interests? What is society expecting from us, beyond the industry lobby groups, and beyond professors wanting to secure the next round of funding to boost a career.\n",
      "\n",
      "Citing Peter Suber's [Open Access](http://mitpress.mit.edu/books/open-access) book:\n",
      "\n",
      "Even the wealthiest academic libraries in the world suffer serious access gaps. When the Harvard Faculty of Arts and Sciences voted unanimously for a strong OA policy in February 2008, Professor Stuart Shieber explained that cumulative price increases had forced the Harvard library to undertake \u201cserious cancellation efforts\u201d for budgetary reasons. Access gaps are worse at other affluent institutions, and worse still in the developing world. In 2008, Harvard subscribed to 98,900 serials and Yale to 73,900. The best-funded research library in India, at the Indian Institute of Science, subscribed to 10,600. Several sub-Saharan African university libraries subscribed to zero, offering their patrons access to no conventional journals except those donated by publishers.\n",
      "\n",
      "For example, how is it that we publish in the AIAA while DTU does not even have (digital) access to those libraries?"
     ]
    },
    {
     "cell_type": "markdown",
     "metadata": {},
     "source": [
      "# Challenges with Open Science and Wind Energy\n",
      "\n",
      "* Scientitif careers are by default not made with an open approach. So how can we realistically expect researches to value an follow open science guidelines?\n",
      "* High impact Open Access journal\n",
      "* Cultural change: code sharing, open source software development methodologies\n",
      "* Cultural change:\n",
      "* Open data: cultural change for open sharing of results (for example see the US, soon EU too?)\n",
      "* Open data: persitant funding for infrastructure\n",
      "* Retaining data: persistant funding for infrastructure\n",
      "\n",
      "Interesting discussion initiated by Phil Davis [here](http://scholarlykitchen.sspnet.org/2014/05/15/what-researchers-value-from-publishers-canadian-survey/). Some quotes:\n",
      "\n",
      "* Scientists have many identities, and tapping into the fundamental desire of the scientist-as-reader (access to everyone else\u2019s work), does not always coincide with the fundamental desire of the scientist-as-author (recognition by one\u2019s peers).\n",
      "\n",
      "* Consider page 11 of the Canadian study. While 97% of respondents relied on their institution\u2019s subscription to access journal articles, the next most frequent response was contacting the author(s) directly for a copy (91%), followed by institutional repositories (76%), ignoring the article (75%), and social networking sites (50%). Pay per view took last spot at 27%.\n",
      "\n"
     ]
    },
    {
     "cell_type": "markdown",
     "metadata": {},
     "source": [
      "# Can publishing be made better? Or what do we need from publishers?\n",
      "\n",
      "* [What Motivates Reviewers? An Experiment in Economics](http://scholarlykitchen.sspnet.org/2014/05/28/what-motivates-reviewers-an-experiment-in-economics/)\n",
      "\n",
      "    * \u201cIt takes a researcher 3-5 hours to review a manuscript,\u201d editors quip, \u201cwhether you give him/her a week or six months!\u201d"
     ]
    },
    {
     "cell_type": "markdown",
     "metadata": {},
     "source": [
      "# Open Peer Review\n",
      "\n",
      "* High impact OA journal: chicken and egg story, first you need to a low impact journal, than grow\n",
      "* Platforms: \n",
      "\n",
      "    * http://openreview.net/\n",
      "    "
     ]
    },
    {
     "cell_type": "markdown",
     "metadata": {
      "slideshow": {
       "slide_type": "slide"
      }
     },
     "source": [
      "# What is currently happening\n",
      "\n",
      "* IPython (tool for collaborative science) and a data science, open source angle:\n",
      "    \n",
      "    * UC Berkeley, 1.15M$ from the Sloan Foundation [link](http://ipython.org/sloan-grant.html)\n",
      "    \n",
      "    * 3 US universities secured 37.5M$ from [link](http://blog.fperez.org/2013/11/an-ambitious-experiment-in-data-science.html) <img src=\"images/Data_Science_VD.png\" WIDTH=\"40%\">\n",
      "\n",
      "* EU Horizon 2020 call requires open access publishing (see [press release](http://europa.eu/rapid/press-release_IP-12-790_en.htm))\n",
      "\n",
      "* EU [Open Data](http://ec.europa.eu/digital-agenda/public-sector-information-raw-data-new-services-and-products) agenda\n",
      "\n",
      "* Tesla (Elon Musk) [opens](http://www.teslamotors.com/blog/all-our-patent-are-belong-you) up all its patents: the real competitor is else where\n",
      "\n",
      "* NASA is increasingly opening up [code](code.nasa.gov), and works actively on engaging with the [community](http://open.nasa.gov/)\n",
      "\n",
      "* Alternative ways of (crowd) funding research, for example [Experiment](https://experiment.com/)\n"
     ]
    },
    {
     "cell_type": "markdown",
     "metadata": {},
     "source": [
      "# What is currently happening\n",
      "\n",
      "* UN called upon an emmergency climate top, US, China willing to finally commit to emmission reductions, Finland adopting 80% reduction scheme, ...\n",
      "\n",
      "* Climate change is our real challenge, in order to maximize renewable energy technologies we must work and share more openly. See what Tesla is doing!\n",
      "\n",
      "* http://centerforopenscience.org/"
     ]
    },
    {
     "cell_type": "markdown",
     "metadata": {
      "slideshow": {
       "slide_type": "notes"
      }
     },
     "source": [
      "* Parralel on NASA and community engagement: how to deal with negative wind turbine sentiment, subjective noise polution? Opening up will help dealing with this challenge."
     ]
    },
    {
     "cell_type": "markdown",
     "metadata": {},
     "source": [
      "# Problems and Pitfalls\n",
      "\n",
      "* IP issues\n",
      "* Funding: cutting the branch you're sitting on\n",
      "* Funding: expensive open access journals\n",
      "* Unconftarble working in the public eye\n",
      "* Currently no high impact open access journals"
     ]
    },
    {
     "cell_type": "markdown",
     "metadata": {},
     "source": [
      "# Tools\n",
      "\n"
     ]
    },
    {
     "cell_type": "code",
     "collapsed": false,
     "input": [],
     "language": "python",
     "metadata": {
      "run_control": {
       "breakpoint": false,
       "state": "n"
      }
     },
     "outputs": []
    }
   ],
   "metadata": {}
  }
 ]
}