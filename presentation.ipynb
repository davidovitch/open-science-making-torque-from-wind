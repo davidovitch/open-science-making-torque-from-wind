{
 "metadata": {
  "celltoolbar": "Slideshow",
  "name": "",
  "signature": "sha256:d4f9ae075dfa81270dcb3732bf474c63136ca98dd1a5689211a6213b81f4f693"
 },
 "nbformat": 3,
 "nbformat_minor": 0,
 "worksheets": [
  {
   "cells": [
    {
     "cell_type": "markdown",
     "metadata": {
      "slideshow": {
       "slide_type": "notes"
      }
     },
     "source": [
      "# Abstract\n",
      "\n",
      "Authors: VERELST, David (DTU Wind Energy)\n",
      "BERGAMI, Leonardo (DTU Wind Energy)\n",
      "TIBALDI, Carlo (DTU Wind Energy)\n",
      "BLASQUES, Jos\u00e9 (DTU Wind Energy)\n",
      "\n",
      "The paper discusses the principles behind the Open Science (OS) movement, and in particular its relation with the wind energy research community. Open Science refers to scientific research that is conducted, reviewed, and disseminated under the principles of transparency and \u201copenness\u201d to the public domain. Under an OS framework, all steps of a scientific research process, from creation to dissemination, evolve in their \u201copen\u201d counterparts: open source software models, open data sets, open peer review, and open access publishing. The paper will define and evaluate critically each of these steps while also relating them to the wind energy research community. Further, the authors will briefly argue why OS could be beneficial from a broader societal perspective.\n",
      "\n",
      "Modern research often utilizes complex software models and large data sets not disclosed to the public domain. This approach hampers independent review and the reproducibility of research results. By removing such barriers, OS ensures that advancements are achieved through transparent and robustly validated steps. The review of scientific results in an open framework (open peer review) guarantees the quality of the results by enhanced transparency in the review process, and encourages active enduring contributions both from qualified reviewers and members of the research community. Dissemination and publication of scientific knowledge in an open access (OA) format reduces access barriers to published material, and enhances knowledge sharing. OA benefits the scientific community with the availability of a broader knowledge base, and the possibility to reach a wider audience, thus improves knowledge usage, increases citations, and amplifies the impact on society. The advantages of OA publications are recognized by mayor public funding programs, and they encourage actively to distribute the results from their sponsored projects as OA.\n",
      "\n",
      "The shift towards an OS framework is occurring unevenly among disciplines. While some research fields are embracing more open practices rapidly, wind energy appears to lag behind. The paper aims at raising awareness, and stirring the debate within the wind energy research community about OS and its fundamental methods and tools. It is the authors\u2019 hope that the paper will initiate a collaborative and \u201copen\u201d discussion forum on Open Science using the Torque 2014 conference as its kick-off event."
     ]
    },
    {
     "cell_type": "markdown",
     "metadata": {
      "slideshow": {
       "slide_type": "slide"
      }
     },
     "source": [
      "#  The Open Science of Making Torque from Wind"
     ]
    },
    {
     "cell_type": "markdown",
     "metadata": {
      "slideshow": {
       "slide_type": "slide"
      }
     },
     "source": [
      "# Outline\n",
      "\n",
      "* What is Open science?\n",
      "    \n",
      "* Why Would Open Science Matter?\n",
      "    \n",
      "* Problems and Pitfalls\n",
      "\n",
      "* What is currently happening\n",
      "\n",
      "* Tools\n",
      "\n",
      "* Discussion"
     ]
    },
    {
     "cell_type": "markdown",
     "metadata": {
      "slideshow": {
       "slide_type": "slide"
      }
     },
     "source": [
      "# What is Open Science?\n",
      "\n",
      "* Open data repositories\n",
      "* Open source software and model development\n",
      "* Open peer review process\n",
      "* Open access publishing\n",
      "* Patents?"
     ]
    },
    {
     "cell_type": "markdown",
     "metadata": {
      "slideshow": {
       "slide_type": "notes"
      }
     },
     "source": [
      "What about patents? Do they matter? Pattents are originaly intendet to \"promote the progress of science and the useful arts\". Is that realy still the case? "
     ]
    },
    {
     "cell_type": "markdown",
     "metadata": {
      "slideshow": {
       "slide_type": "slide"
      }
     },
     "source": [
      "# Why Would Open Science Matter?\n",
      "\n",
      "* Reproducability\n",
      "* Publically funded, publically accessible\n",
      "* Accelerate progress\n",
      "* Increase societal impact"
     ]
    },
    {
     "cell_type": "markdown",
     "metadata": {
      "slideshow": {
       "slide_type": "notes"
      }
     },
     "source": [
      "We should really rethink what is the core task of a universities. Are we really creating for knowledge for the benefit of mankind, or just targeted industries and interests? What is society expecting from us, beyond the industry lobby groups, and beyond professors wanting to secure the next round of funding to boost a career."
     ]
    },
    {
     "cell_type": "markdown",
     "metadata": {
      "slideshow": {
       "slide_type": "slide"
      }
     },
     "source": [
      "# What is currently happening\n",
      "\n",
      "* IPython (tool for collaborative science) and a data science, open source angle:\n",
      "    \n",
      "    * UC Berkeley, 1.15M$ from the Sloan Foundation [link](http://ipython.org/sloan-grant.html)\n",
      "    \n",
      "    * 3 US universities secured 37.5M$ from [link](http://blog.fperez.org/2013/11/an-ambitious-experiment-in-data-science.html) <img src=\"Data_Science_VD.png\" WIDTH=\"40%\">\n",
      "\n",
      "* EU Horizon 2020 call requires open access publishing (see [press release](http://europa.eu/rapid/press-release_IP-12-790_en.htm))\n",
      "\n",
      "* \n",
      "\n",
      "* Tesla (Elon Musk) [opens](http://www.teslamotors.com/blog/all-our-patent-are-belong-you) up all its patents: the real competitor is else where\n",
      "\n",
      "* NASA is increasingly opening up [code](code.nasa.gov) works actively on engaging with the [community](http://open.nasa.gov/)\n"
     ]
    },
    {
     "cell_type": "markdown",
     "metadata": {
      "slideshow": {
       "slide_type": "notes"
      }
     },
     "source": [
      "* NASA and community engagement: how to deal with negative wind turbine sentiment, subjective noise polution"
     ]
    },
    {
     "cell_type": "markdown",
     "metadata": {},
     "source": [
      "# Problems and Pitfalls\n",
      "\n",
      "* IP issues\n",
      "* Funding: cutting the branch you're sitting on\n",
      "* Funding: expensive open access journals\n",
      "* Unconftarble working in the public eye\n",
      "* Currently no high impact open access journals"
     ]
    },
    {
     "cell_type": "markdown",
     "metadata": {},
     "source": [
      "# Tools\n",
      "\n"
     ]
    }
   ],
   "metadata": {}
  }
 ]
}