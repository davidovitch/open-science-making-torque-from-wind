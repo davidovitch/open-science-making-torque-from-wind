{
 "metadata": {
  "celltoolbar": "Slideshow",
  "name": "",
  "signature": "sha256:3c67a18e4091b6462e3ea7506a945489f43895504d279a3748912f0463899cf1"
 },
 "nbformat": 3,
 "nbformat_minor": 0,
 "worksheets": [
  {
   "cells": [
    {
     "cell_type": "markdown",
     "metadata": {
      "slideshow": {
       "slide_type": "notes"
      }
     },
     "source": [
      "# Abstract\n",
      "\n",
      "Authors: VERELST, David (DTU Wind Energy)\n",
      "BERGAMI, Leonardo (DTU Wind Energy)\n",
      "TIBALDI, Carlo (DTU Wind Energy)\n",
      "BLASQUES, Jos\u00e9 (DTU Wind Energy)\n",
      "\n",
      "The paper discusses the principles behind the Open Science (OS) movement, and in particular its relation with the wind energy research community. Open Science refers to scientific research that is conducted, reviewed, and disseminated under the principles of transparency and \u201copenness\u201d to the public domain. Under an OS framework, all steps of a scientific research process, from creation to dissemination, evolve in their \u201copen\u201d counterparts: open source software models, open data sets, open peer review, and open access publishing. The paper will define and evaluate critically each of these steps while also relating them to the wind energy research community. Further, the authors will briefly argue why OS could be beneficial from a broader societal perspective.\n",
      "\n",
      "Modern research often utilizes complex software models and large data sets not disclosed to the public domain. This approach hampers independent review and the reproducibility of research results. By removing such barriers, OS ensures that advancements are achieved through transparent and robustly validated steps. The review of scientific results in an open framework (open peer review) guarantees the quality of the results by enhanced transparency in the review process, and encourages active enduring contributions both from qualified reviewers and members of the research community. Dissemination and publication of scientific knowledge in an open access (OA) format reduces access barriers to published material, and enhances knowledge sharing. OA benefits the scientific community with the availability of a broader knowledge base, and the possibility to reach a wider audience, thus improves knowledge usage, increases citations, and amplifies the impact on society. The advantages of OA publications are recognized by mayor public funding programs, and they encourage actively to distribute the results from their sponsored projects as OA.\n",
      "\n",
      "The shift towards an OS framework is occurring unevenly among disciplines. While some research fields are embracing more open practices rapidly, wind energy appears to lag behind. The paper aims at raising awareness, and stirring the debate within the wind energy research community about OS and its fundamental methods and tools. It is the authors\u2019 hope that the paper will initiate a collaborative and \u201copen\u201d discussion forum on Open Science using the Torque 2014 conference as its kick-off event.\n",
      "\n",
      "see also google docs working [document](https://docs.google.com/document/d/1_r1EDM-AAt1kRPv-zNWPDn_-so8K3Z_syrNjfXKb8_w/edit?pli=1#heading=h.gcjnjqj7727t)"
     ]
    },
    {
     "cell_type": "markdown",
     "metadata": {
      "slideshow": {
       "slide_type": "slide"
      }
     },
     "source": [
      "#  The Open Science of Making Torque from Wind\n",
      "\n",
      "Thoughts and idea's towards increased collaboration and accelerated research progress for Wind Energy\n",
      "\n",
      "Authors and collaborators: David Verelst, Leonardo Bergami, Carlo Tibaldi, Jos\u00e9 Blasques (DTU Wind Energy)\n",
      "\n",
      "\n",
      "\n",
      "This is an [IPython notebook](http://ipython.org/notebook.html), source available on Github, view using the online notebook viewer\n",
      "\n",
      "* source: https://github.com/davidovitch/open-science-making-torque-from-wind\n",
      "\n",
      "* viewer: http://nbviewer.ipython.org/github/davidovitch/open-science-making-torque-from-wind/blob/master/presentation.ipynb"
     ]
    },
    {
     "cell_type": "markdown",
     "metadata": {
      "slideshow": {
       "slide_type": "slide"
      }
     },
     "source": [
      "# Outline\n",
      "\n",
      "* What is Open science?\n",
      "* What is currently happening\n",
      "* Tools\n",
      "* Discussion"
     ]
    },
    {
     "cell_type": "markdown",
     "metadata": {
      "slideshow": {
       "slide_type": "slide"
      }
     },
     "source": [
      "# What is Open Science?\n",
      "\n",
      "* Open data repositories\n",
      "* Open source software and model development\n",
      "* Open peer review process\n",
      "* Open access publishing\n",
      "\n",
      "\n",
      "* Standard practice other fields such as economics, mathematics\n",
      "* Back to the basics of the scientific process\n",
      "* Science 3.0"
     ]
    },
    {
     "cell_type": "markdown",
     "metadata": {
      "slideshow": {
       "slide_type": "slide"
      }
     },
     "source": [
      "# Why Should Open Science Matter?\n",
      "\n",
      "* Reproducibility of research results\n",
      "* Publicly funded, publicly accessible (US, EU partially)\n",
      "* Accelerate progress:\n",
      "\n",
      "    * more sharing, less double work\n",
      "    * more checks\n",
      "    * increased quality\n",
      "\n",
      "* Increase societal impact\n",
      "* For the benefit of all of society: distribute knowledge without discrimination\n",
      "* University top level strategy seems to align perfectly well with Open Science dogma's:\n",
      "    \n",
      "    * international collaboration with fellow researchers\n",
      "    * accelerate innovation\n",
      "    * collaboration with industry\n",
      "    * address relevant problems in society, for the benefit of society"
     ]
    },
    {
     "cell_type": "markdown",
     "metadata": {
      "slideshow": {
       "slide_type": "notes"
      }
     },
     "source": [
      "for instance lets look at the recently updated [DTU strategy](http://portalen.dtu.dk/DTU_Generelt/APK/Om_DTU/officielle_dokumenter/Strategi.aspx):"
     ]
    },
    {
     "cell_type": "markdown",
     "metadata": {
      "slideshow": {
       "slide_type": "slide"
      }
     },
     "source": [
      "# What Open Science is Not\n",
      "\n",
      "* Thread to the \"established order\", this is a renewed opportunity to proof our (increasing) relevance to society\n",
      "* A buzzword that will attract new venture capital and makes us researchers even more rich\n",
      "* The road to heaven"
     ]
    },
    {
     "cell_type": "markdown",
     "metadata": {
      "slideshow": {
       "slide_type": "slide"
      }
     },
     "source": [
      "# Open Data\n",
      "\n",
      "* Infrastructure: university servers, dropbox, and others\n",
      "* Data retention: duplicate data, commit to keeping data\n",
      "* Accessibility for easy sharing\n",
      "* Documentation\n",
      "* Usage of standard storage formats and protocols: database, compressed archives\n",
      "\n",
      "\n",
      "* Funding"
     ]
    },
    {
     "cell_type": "markdown",
     "metadata": {
      "slideshow": {
       "slide_type": "slide"
      }
     },
     "source": [
      "# Open Source\n",
      "\n",
      "* Software implementation of models are open\n",
      "* Usage of version control system: Git, Mercurial (Hg)\n",
      "* Code is an important part of our work, proper review is required\n",
      "* Learn from the (open source) software development community: \n",
      "    \n",
      "    * geographically distributed teams, highly collaborative (international), transparent, creating high quality complex and widely used software\n",
      "    * consistency: coding guidelines, code commit workflow\n",
      "    * code review practices"
     ]
    },
    {
     "cell_type": "markdown",
     "metadata": {
      "slideshow": {
       "slide_type": "slide"
      }
     },
     "source": [
      "# Open Access\n",
      "\n",
      "* Different levels: gold, green\n",
      "* Do scientists care about open access?\n",
      "\n",
      "    * Some quotes from Phil Davis [blog](http://scholarlykitchen.sspnet.org/2014/05/15/what-researchers-value-from-publishers-canadian-survey/):\n",
      "    * Scientists have many identities, and tapping into the fundamental desire of the scientist-as-reader (access to everyone else\u2019s work), does not always coincide with the fundamental desire of the scientist-as-author (recognition by one\u2019s peers).\n",
      "    * Consider page 11 of the Canadian study. While 97% of respondents relied on their institution\u2019s subscription to access journal articles, the next most frequent response was contacting the author(s) directly for a copy (91%), followed by institutional repositories (76%), ignoring the article (75%), and social networking sites (50%). Pay per view took last spot at 27%.\n",
      "\n",
      "* Is open access relevant?\n",
      "    \n",
      "    * Yes, if we want research to be accessible beyond wealthy institutes.\n",
      "    * From the open access book on [Open Access](http://mitpress.mit.edu/books/open-access) by Peter Suber, rich Libraries have up to 100,000 subscriptions (Harvard), top Indian institute 10,000, and down to zero for many other institutes in the development world.\n",
      "    * Why wouldn't it be relevant?\n",
      "    * Innovation florishes when knowledge is wide-spread and easily accessible\n",
      "    * Publicly funded, publicly accessible"
     ]
    },
    {
     "cell_type": "markdown",
     "metadata": {
      "slideshow": {
       "slide_type": "slide"
      }
     },
     "source": [
      "# Open Peer Review\n",
      "\n",
      "* The review process is open and transparent\n",
      "* Reviewer can chose to remain anonymous or not\n",
      "* Review and discussion can continue after the publication!\n",
      "* Give reviewers incentives:\n",
      "\n",
      "    * citable reviews\n",
      "    * include citations to the reviews that helped improving the publciations\n",
      " \n",
      "* For a more detailed discussion, see an initiative in computer science [here](http://yann.lecun.com/ex/pamphlets/publishing-models.html), and [here](http://hunch.net/?p=1086)\n",
      "\n",
      "\n",
      "* [What Motivates Reviewers? An Experiment in Economics](http://scholarlykitchen.sspnet.org/2014/05/28/what-motivates-reviewers-an-experiment-in-economics/)\n",
      "\n",
      "    * \u201cIt takes a researcher 3-5 hours to review a manuscript,\u201d editors quip, \u201cwhether you give him/her a week or six months!\u201d\n",
      "    \n",
      "* High impact OA journal: chicken and egg story, first you need to a low impact journal, than grow"
     ]
    },
    {
     "cell_type": "markdown",
     "metadata": {
      "slideshow": {
       "slide_type": "notes"
      }
     },
     "source": [
      "* For inspiration, quote some of Piketty's stuff in the introduction of Capital in the 21 century\n",
      "\n",
      "We should go back to what is the core task of a universities. Are we really creating for knowledge for the benefit of all of mankind, or just targeted industries and interests? What is society expecting from us, beyond the industry lobby groups, and beyond professors wanting to secure the next round of funding to boost a career.\n",
      "\n",
      "Citing Peter Suber's [Open Access](http://mitpress.mit.edu/books/open-access) book:\n",
      "\n",
      "Even the wealthiest academic libraries in the world suffer serious access gaps. When the Harvard Faculty of Arts and Sciences voted unanimously for a strong OA policy in February 2008, Professor Stuart Shieber explained that cumulative price increases had forced the Harvard library to undertake \u201cserious cancellation efforts\u201d for budgetary reasons. Access gaps are worse at other affluent institutions, and worse still in the developing world. In 2008, Harvard subscribed to 98,900 serials and Yale to 73,900. The best-funded research library in India, at the Indian Institute of Science, subscribed to 10,600. Several sub-Saharan African university libraries subscribed to zero, offering their patrons access to no conventional journals except those donated by publishers.\n",
      "\n",
      "For example, how is it that we publish in the AIAA while DTU does not even have (digital) access to those libraries?"
     ]
    },
    {
     "cell_type": "markdown",
     "metadata": {
      "slideshow": {
       "slide_type": "slide"
      }
     },
     "source": [
      "# Open Science Challenges for Wind Energy\n",
      "\n",
      "* Scientitif careers are by default not made with an open approach. So how can we realistically expect researches to value and follow open science guidelines?\n",
      "\n",
      "### Cultural and political changes\n",
      "* Code sharing, open source software development methodologies\n",
      "* Open data: sharing of experimental and simulation results by default (for example see the US, soon EU too?)\n",
      "* Agreements on software model interfaces and protocols\n",
      "\n",
      "### Funding and infrastructural challanges\n",
      "* Open data: deployment and maintenance of tools for sharing data\n",
      "* Retaining data: persistant funding for infrastructure\n",
      "* High impact Open Access journal: demand from publishers availability for gold open access license (Horizon 2020 requirement)\n",
      "* Open source models: securing long term funding across projects"
     ]
    },
    {
     "cell_type": "markdown",
     "metadata": {
      "slideshow": {
       "slide_type": "slide"
      }
     },
     "source": [
      "# Problems and Pitfalls\n",
      "\n",
      "* Funding: cutting the branch you're sitting on\n",
      "* Funding: expensive open access journals, small compared to project budget (small projects, institutes?)\n",
      "* Unconftarble working in the public eye\n",
      "* Currently no high impact open access journals"
     ]
    },
    {
     "cell_type": "markdown",
     "metadata": {
      "slideshow": {
       "slide_type": "slide"
      }
     },
     "source": [
      "# What is currently happening\n",
      "\n",
      "* IPython (tool for collaborative science) and a data science, open source angle:\n",
      "    \n",
      "    * UC Berkeley, 1.15M$ from the Sloan Foundation [link](http://ipython.org/sloan-grant.html)\n",
      "    \n",
      "    * 3 US universities secured 37.5M$ from [link](http://blog.fperez.org/2013/11/an-ambitious-experiment-in-data-science.html) <img src=\"images/Data_Science_VD.png\" WIDTH=\"40%\">\n",
      "\n",
      "* EU Horizon 2020 call requires open access publishing (see [press release](http://europa.eu/rapid/press-release_IP-12-790_en.htm))\n",
      "\n",
      "* EU [Open Data](http://ec.europa.eu/digital-agenda/public-sector-information-raw-data-new-services-and-products) agenda\n",
      "\n",
      "* An innovative concept to share open data with collaborators, under development: [dat](http://dat-data.com/)\n",
      "\n",
      "* Tesla (Elon Musk) [opens](http://www.teslamotors.com/blog/all-our-patent-are-belong-you) up all its patents: the real competitor is else where, to fight climate change sustainable energy needs to grow much faster than a single company can\n",
      "\n",
      "* NASA is increasingly opening up [code](code.nasa.gov), and works actively on engaging with the [community](http://open.nasa.gov/)\n",
      "\n",
      "* Alternative ways of (crowd) funding research, for example [Experiment](https://experiment.com/)\n",
      "\n",
      "* [Center for Open Science](http://centerforopenscience.org/), [Open Science Framework](https://osf.io/)\n",
      "\n",
      "* Preparing the UN climate meeting 2015 in Paris, US, China willing to finally commit to emmission reductions, Finland adopting 80% reduction scheme by 2050, ...\n",
      "\n",
      "* Climate change is our real challenge, in order to maximize renewable energy adoption we must work and share more openly"
     ]
    },
    {
     "cell_type": "markdown",
     "metadata": {
      "slideshow": {
       "slide_type": "notes"
      }
     },
     "source": [
      "* Parralel on NASA and community engagement: how to deal with negative wind turbine sentiment, subjective noise polution? Opening up will help dealing with this challenge."
     ]
    },
    {
     "cell_type": "markdown",
     "metadata": {
      "slideshow": {
       "slide_type": "slide"
      }
     },
     "source": [
      "# Tools\n",
      "\n",
      "* Some open tools as an example\n",
      "* Ideally, the IT infrastructure is jointly funded by a group of universities, no need for unnecessary duplication\n",
      "* Similar propriety tools could also be used, not listed here\n",
      "\n",
      "\n",
      "### Open Data\n",
      "* As long as it is accessible, documented and versioned!\n",
      "* Cloud server software: [owncloud](http://owncloud.org/)\n",
      "* Cloud storage service providers: [box](https://www.box.com/), [dropbox](https://www.dropbox.com/), [spyderoak](https://spideroak.com/), and many others\n",
      "\n",
      "\n",
      "### Open Source Software Development\n",
      "* Version control for text files: [Git](http://www.git-scm.com/), [Hg](http://mercurial.selenic.com/)\n",
      "* Collaborative software development: [Github](https://github.com/), [Gitlab](https://www.gitlab.com/), [Redmine](http://www.redmine.org/), [Phabricator](http://phabricator.org/), [Bitbucket](https://bitbucket.org/)\n",
      "\n",
      "\n",
      "### Open Peer Review, Open Access Publishing\n",
      "* [Open Review Net](http://openreview.net/), an initiative from the computer science community\n",
      "* [Ambra](http://www.ambraproject.org/), drives [PLOS (Public Library of Science)](http://www.plos.org/)\n",
      "* [Open Journal Systems](https://pkp.sfu.ca/?q=ojs), as used by over 6,000 journals"
     ]
    },
    {
     "cell_type": "markdown",
     "metadata": {
      "slideshow": {
       "slide_type": "slide"
      }
     },
     "source": [
      "# What's next?\n",
      "\n",
      "* Establish a network of interested collaborators with an as varied range of backgrounds as possible\n",
      "* Continue under the umbrella of the EAWE?\n",
      "* Funding/support for a course/practical guideline on open science methodologies and practices (version control, data sharing)\n",
      "\n",
      "\n",
      "* Publish only in open access journals\n",
      "* Identify collaborators for open source model development\n",
      "* Documenting data sets\n",
      "* Publically sharing data sets\n",
      "* Convince publishers and editors to experiment with open peer review"
     ]
    },
    {
     "cell_type": "markdown",
     "metadata": {
      "slideshow": {
       "slide_type": "slide"
      }
     },
     "source": [
      "# Discussion"
     ]
    },
    {
     "cell_type": "markdown",
     "metadata": {
      "slideshow": {
       "slide_type": "notes"
      }
     },
     "source": [
      "http://ivory.idyll.org/blog//2014-myths-of-computational-reproducibility.html\n",
      "\n",
      "http://ivory.idyll.org/blog//2014-eli-conversation.html"
     ]
    },
    {
     "cell_type": "markdown",
     "metadata": {
      "slideshow": {
       "slide_type": "notes"
      }
     },
     "source": [
      "## Notes for future presentations\n",
      "\n",
      "What about patents? Do they matter? Pattents are originaly intendet to \"promote the progress of science and the useful arts\". Is that still the case? \n",
      "\n",
      "* Open Access Barometer project at DTU (ended Dec 2013)"
     ]
    }
   ],
   "metadata": {}
  }
 ]
}